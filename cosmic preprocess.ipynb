{
 "cells": [
  {
   "cell_type": "code",
   "execution_count": 1,
   "metadata": {},
   "outputs": [],
   "source": [
    "import pandas as pd\n"
   ]
  },
  {
   "cell_type": "markdown",
   "metadata": {},
   "source": [
    "### reading COSMIC dataset and getting Missennse mutations"
   ]
  },
  {
   "cell_type": "code",
   "execution_count": 3,
   "metadata": {},
   "outputs": [
    {
     "name": "stdout",
     "output_type": "stream",
     "text": [
      "                         Gene name    Accession Number  Gene CDS length  \\\n",
      "2            MCF2L_ENST00000375604   ENST00000375604.6             3372   \n",
      "3            MCF2L_ENST00000375604   ENST00000375604.6             3372   \n",
      "10           MCF2L_ENST00000375604   ENST00000375604.6             3372   \n",
      "12           MCF2L_ENST00000375604   ENST00000375604.6             3372   \n",
      "23           MCF2L_ENST00000375604   ENST00000375604.6             3372   \n",
      "...                            ...                 ...              ...   \n",
      "52035089    PCDH15_ENST00000395430   ENST00000395430.5             5859   \n",
      "52035097                     MBNL1  ENST00000282486.10             1167   \n",
      "52035099   SEC14L2_ENST00000405717   ENST00000405717.7             1179   \n",
      "52035107                      DSG4   ENST00000359747.4             3180   \n",
      "52035110  SERPINB8_ENST00000397988   ENST00000397988.7              729   \n",
      "\n",
      "          HGNC ID               Sample name  ID_sample  ID_tumour  \\\n",
      "2         14576.0           TCGA-CV-7101-01    2193872    2062150   \n",
      "3         14576.0                    HCC149    2776336    2634472   \n",
      "10        14576.0           TCGA-A4-7583-01    2194049    2062327   \n",
      "12        14576.0                       EC2    2906888    2761179   \n",
      "23        14576.0           TCGA-DR-A0ZM-01    1779769    1683768   \n",
      "...           ...                       ...        ...        ...   \n",
      "52035089  14674.0  EXTERN_MELA_20140526_055    2839353    2695119   \n",
      "52035097   6923.0                 RK308_C01    2194686    2062964   \n",
      "52035099  10699.0  EXTERN_MELA_20140526_055    2839353    2695119   \n",
      "52035107  21307.0  EXTERN_MELA_20140526_055    2839353    2695119   \n",
      "52035110   8952.0           TCGA-EE-A2MJ-06    2121681    1995917   \n",
      "\n",
      "                       Primary site Site subtype 1 Site subtype 2  ...  \\\n",
      "2         upper_aerodigestive_tract      head_neck             NS  ...   \n",
      "3                              lung             NS             NS  ...   \n",
      "10                           kidney             NS             NS  ...   \n",
      "12                      endometrium             NS             NS  ...   \n",
      "23                           cervix             NS             NS  ...   \n",
      "...                             ...            ...            ...  ...   \n",
      "52035089                       skin       shoulder             NS  ...   \n",
      "52035097                      liver             NS             NS  ...   \n",
      "52035099                       skin       shoulder             NS  ...   \n",
      "52035107                       skin       shoulder             NS  ...   \n",
      "52035110                       skin             NS             NS  ...   \n",
      "\n",
      "         Resistance Mutation    Mutation somatic status Pubmed_PMID ID_STUDY  \\\n",
      "2                          -  Confirmed somatic variant         NaN    627.0   \n",
      "3                          -  Variant of unknown origin  29681454.0      NaN   \n",
      "10                         -  Confirmed somatic variant         NaN    543.0   \n",
      "12                         -  Confirmed somatic variant  33016334.0      NaN   \n",
      "23                         -  Confirmed somatic variant         NaN    415.0   \n",
      "...                      ...                        ...         ...      ...   \n",
      "52035089                   -  Confirmed somatic variant  28467829.0      NaN   \n",
      "52035097                   -  Confirmed somatic variant         NaN    322.0   \n",
      "52035099                   -  Confirmed somatic variant  28467829.0      NaN   \n",
      "52035107                   -  Confirmed somatic variant  28467829.0      NaN   \n",
      "52035110                   -  Confirmed somatic variant         NaN    540.0   \n",
      "\n",
      "                   Sample Type Tumour origin   Age  \\\n",
      "2                           NS            NS  80.0   \n",
      "3                           NS            NS  58.0   \n",
      "10                          NS            NS  60.0   \n",
      "12               surgery-fixed            NS   NaN   \n",
      "23          fresh/frozen - NOS       primary  61.0   \n",
      "...                        ...           ...   ...   \n",
      "52035089  surgery fresh/frozen    metastasis   NaN   \n",
      "52035097                    NS            NS   NaN   \n",
      "52035099  surgery fresh/frozen    metastasis   NaN   \n",
      "52035107  surgery fresh/frozen    metastasis   NaN   \n",
      "52035110                    NS            NS  60.0   \n",
      "\n",
      "                                   HGVSP                        HGVSC  \\\n",
      "2           ENSP00000364754.3:p.Arg55Trp   ENST00000375604.6:c.163C>T   \n",
      "3          ENSP00000364754.3:p.Val238Leu   ENST00000375604.6:c.712G>T   \n",
      "10         ENSP00000364754.3:p.Leu963Ile  ENST00000375604.6:c.2887C>A   \n",
      "12         ENSP00000364754.3:p.Arg568Gln  ENST00000375604.6:c.1703G>A   \n",
      "23         ENSP00000364754.3:p.Glu907Lys  ENST00000375604.6:c.2719G>A   \n",
      "...                                  ...                          ...   \n",
      "52035089  ENSP00000378818.1:p.Glu1528Lys  ENST00000395430.5:c.4582G>A   \n",
      "52035097   ENSP00000282486.6:p.Arg279Gln  ENST00000282486.10:c.836G>A   \n",
      "52035099    ENSP00000385186.3:p.Pro28Leu    ENST00000405717.7:c.83C>T   \n",
      "52035107    ENSP00000352785.4:p.Glu31Lys    ENST00000359747.4:c.91G>A   \n",
      "52035110   ENSP00000381075.3:p.Ser120Thr   ENST00000397988.7:c.358T>A   \n",
      "\n",
      "                      HGVSG  \n",
      "2         13:g.113024649C>T  \n",
      "3         13:g.113065047G>T  \n",
      "10        13:g.113089668C>A  \n",
      "12        13:g.113078411G>A  \n",
      "23        13:g.113088363G>A  \n",
      "...                     ...  \n",
      "52035089   10:g.53823135C>T  \n",
      "52035097   3:g.152446732G>A  \n",
      "52035099   22:g.30399671C>T  \n",
      "52035107   18:g.31386694G>A  \n",
      "52035110   18:g.63981772T>A  \n",
      "\n",
      "[14417029 rows x 37 columns]\n"
     ]
    }
   ],
   "source": [
    "import pandas as pd\n",
    "\n",
    "# Define chunk size\n",
    "chunksize = 100000\n",
    "\n",
    "# Initialize an empty list to store filtered chunks\n",
    "filtered_chunks = []\n",
    "\n",
    "# Iterate over chunks\n",
    "for chunk in pd.read_table('CosmicMutantExport.tsv',delimiter='\\t', chunksize=chunksize):\n",
    "    # Filter rows where 'Mutation Description' is equal to 'misense'\n",
    "\n",
    "    filtered_chunk = chunk[chunk['Mutation Description'] == 'Substitution - Missense']\n",
    "    # Append the filtered chunk to the list\n",
    "    filtered_chunks.append(filtered_chunk)\n",
    "\n",
    "# Concatenate all filtered chunks into a single DataFrame\n",
    "filtered_df = pd.concat(filtered_chunks)\n",
    "\n",
    "# Display the resulting DataFrame\n",
    "print(filtered_df)\n",
    "\n"
   ]
  },
  {
   "cell_type": "code",
   "execution_count": 7,
   "metadata": {},
   "outputs": [
    {
     "data": {
      "text/plain": [
       "Gene name\n",
       "ARRB2                      160\n",
       "ARRB1                      159\n",
       "ARRB2_ENST00000269260      158\n",
       "ARRDC2                     158\n",
       "ARRB2_ENST00000346341      157\n",
       "ARRB1_ENST00000360025      157\n",
       "ARRB2_ENST00000381488      149\n",
       "ARRDC2_ENST00000379656     148\n",
       "ARRDC4                     147\n",
       "ARRB2_ENST00000575877      143\n",
       "ARRDC3                     135\n",
       "ARRDC5                     131\n",
       "ARR3_ENST00000620997       128\n",
       "ARR3                       128\n",
       "ARRDC1                     125\n",
       "ARR3_ENST00000374495       121\n",
       "RARRES1                     99\n",
       "RARRES3_ENST00000354445     79\n",
       "RARRES3                     79\n",
       "ARRB2_ENST00000571206       72\n",
       "RARRES1_ENST00000479756     72\n",
       "ARRB2_ENST00000572457       72\n",
       "ARRB2_ENST00000574954       72\n",
       "RARRES3_ENST00000439013     59\n",
       "RARRES2_ENST00000223271     51\n",
       "RARRES2_ENST00000482669     51\n",
       "RARRES2                     51\n",
       "Name: count, dtype: int64"
      ]
     },
     "execution_count": 7,
     "metadata": {},
     "output_type": "execute_result"
    }
   ],
   "source": [
    "filtered_df[filtered_df['Gene name'].str.contains('arr',case=False)]['Gene name'].value_counts()"
   ]
  },
  {
   "cell_type": "code",
   "execution_count": 8,
   "metadata": {},
   "outputs": [],
   "source": [
    "filtered_df=filtered_df[['Gene name','Sample name','ID_sample','MUTATION_ID','Primary site','Mutation AA','Tumour origin','Age']]"
   ]
  },
  {
   "cell_type": "code",
   "execution_count": 9,
   "metadata": {},
   "outputs": [
    {
     "data": {
      "text/html": [
       "<div>\n",
       "<style scoped>\n",
       "    .dataframe tbody tr th:only-of-type {\n",
       "        vertical-align: middle;\n",
       "    }\n",
       "\n",
       "    .dataframe tbody tr th {\n",
       "        vertical-align: top;\n",
       "    }\n",
       "\n",
       "    .dataframe thead th {\n",
       "        text-align: right;\n",
       "    }\n",
       "</style>\n",
       "<table border=\"1\" class=\"dataframe\">\n",
       "  <thead>\n",
       "    <tr style=\"text-align: right;\">\n",
       "      <th></th>\n",
       "      <th>Gene name</th>\n",
       "      <th>Sample name</th>\n",
       "      <th>ID_sample</th>\n",
       "      <th>MUTATION_ID</th>\n",
       "      <th>Primary site</th>\n",
       "      <th>Mutation AA</th>\n",
       "      <th>Tumour origin</th>\n",
       "      <th>Age</th>\n",
       "    </tr>\n",
       "  </thead>\n",
       "  <tbody>\n",
       "    <tr>\n",
       "      <th>2</th>\n",
       "      <td>MCF2L_ENST00000375604</td>\n",
       "      <td>TCGA-CV-7101-01</td>\n",
       "      <td>2193872</td>\n",
       "      <td>118444975</td>\n",
       "      <td>upper_aerodigestive_tract</td>\n",
       "      <td>p.R55W</td>\n",
       "      <td>NS</td>\n",
       "      <td>80.0</td>\n",
       "    </tr>\n",
       "    <tr>\n",
       "      <th>3</th>\n",
       "      <td>MCF2L_ENST00000375604</td>\n",
       "      <td>HCC149</td>\n",
       "      <td>2776336</td>\n",
       "      <td>118454200</td>\n",
       "      <td>lung</td>\n",
       "      <td>p.V238L</td>\n",
       "      <td>NS</td>\n",
       "      <td>58.0</td>\n",
       "    </tr>\n",
       "    <tr>\n",
       "      <th>10</th>\n",
       "      <td>MCF2L_ENST00000375604</td>\n",
       "      <td>TCGA-A4-7583-01</td>\n",
       "      <td>2194049</td>\n",
       "      <td>118463161</td>\n",
       "      <td>kidney</td>\n",
       "      <td>p.L963I</td>\n",
       "      <td>NS</td>\n",
       "      <td>60.0</td>\n",
       "    </tr>\n",
       "    <tr>\n",
       "      <th>12</th>\n",
       "      <td>MCF2L_ENST00000375604</td>\n",
       "      <td>EC2</td>\n",
       "      <td>2906888</td>\n",
       "      <td>118451384</td>\n",
       "      <td>endometrium</td>\n",
       "      <td>p.R568Q</td>\n",
       "      <td>NS</td>\n",
       "      <td>NaN</td>\n",
       "    </tr>\n",
       "    <tr>\n",
       "      <th>23</th>\n",
       "      <td>MCF2L_ENST00000375604</td>\n",
       "      <td>TCGA-DR-A0ZM-01</td>\n",
       "      <td>1779769</td>\n",
       "      <td>118446604</td>\n",
       "      <td>cervix</td>\n",
       "      <td>p.E907K</td>\n",
       "      <td>primary</td>\n",
       "      <td>61.0</td>\n",
       "    </tr>\n",
       "  </tbody>\n",
       "</table>\n",
       "</div>"
      ],
      "text/plain": [
       "                Gene name      Sample name  ID_sample  MUTATION_ID  \\\n",
       "2   MCF2L_ENST00000375604  TCGA-CV-7101-01    2193872    118444975   \n",
       "3   MCF2L_ENST00000375604           HCC149    2776336    118454200   \n",
       "10  MCF2L_ENST00000375604  TCGA-A4-7583-01    2194049    118463161   \n",
       "12  MCF2L_ENST00000375604              EC2    2906888    118451384   \n",
       "23  MCF2L_ENST00000375604  TCGA-DR-A0ZM-01    1779769    118446604   \n",
       "\n",
       "                 Primary site Mutation AA Tumour origin   Age  \n",
       "2   upper_aerodigestive_tract      p.R55W            NS  80.0  \n",
       "3                        lung     p.V238L            NS  58.0  \n",
       "10                     kidney     p.L963I            NS  60.0  \n",
       "12                endometrium     p.R568Q            NS   NaN  \n",
       "23                     cervix     p.E907K       primary  61.0  "
      ]
     },
     "execution_count": 9,
     "metadata": {},
     "output_type": "execute_result"
    }
   ],
   "source": [
    "filtered_df.head()"
   ]
  },
  {
   "cell_type": "markdown",
   "metadata": {},
   "source": [
    "### Getting specific Gene names"
   ]
  },
  {
   "cell_type": "code",
   "execution_count": 11,
   "metadata": {},
   "outputs": [],
   "source": [
    "our_final_df=filtered_df[filtered_df['Gene name'].str.contains('gnaq|gnas|ARRB1|gna11|gnai1|gnai2|gna13|gna15|gna14|gnb1|gnb3|gnb5|arr3|sag|arrb2',case=False)]"
   ]
  },
  {
   "cell_type": "code",
   "execution_count": 12,
   "metadata": {},
   "outputs": [],
   "source": [
    "our_final_df.to_csv('cosmiccleaned_07_24.csv')"
   ]
  },
  {
   "cell_type": "code",
   "execution_count": 14,
   "metadata": {},
   "outputs": [],
   "source": [
    "df=pd.read_csv('cosmiccleaned_07_24.csv')"
   ]
  },
  {
   "cell_type": "markdown",
   "metadata": {},
   "source": [
    "### removing Gene names that have enst prefix"
   ]
  },
  {
   "cell_type": "code",
   "execution_count": 17,
   "metadata": {},
   "outputs": [],
   "source": [
    "df = df[~df['Gene name'].str.contains('enst', case=False, na=False)]\n"
   ]
  },
  {
   "cell_type": "code",
   "execution_count": 19,
   "metadata": {},
   "outputs": [],
   "source": [
    "df.to_csv('cosmiccleaned_07_24.csv')"
   ]
  },
  {
   "cell_type": "code",
   "execution_count": 20,
   "metadata": {},
   "outputs": [],
   "source": [
    "import pandas as pd\n",
    "# df=pd.read_csv(\"cosmic filtered.csv\")\n",
    "\n",
    "# just missenses"
   ]
  },
  {
   "cell_type": "code",
   "execution_count": 21,
   "metadata": {},
   "outputs": [],
   "source": [
    "# cs=pd.read_csv('cosmic_filtered_reduced.csv')"
   ]
  },
  {
   "cell_type": "code",
   "execution_count": null,
   "metadata": {},
   "outputs": [],
   "source": [
    "cs.head()"
   ]
  },
  {
   "cell_type": "markdown",
   "metadata": {},
   "source": [
    "### just datas with specific columns"
   ]
  },
  {
   "cell_type": "code",
   "execution_count": 14,
   "metadata": {},
   "outputs": [],
   "source": [
    "df[['Gene name','Sample name','ID_sample','MUTATION_ID','Primary site','Mutation AA','Tumour origin','Age']].to_csv('cosmic_filtered_reduced.csv')\n",
    "#just datas with specific columns"
   ]
  },
  {
   "cell_type": "code",
   "execution_count": 2,
   "metadata": {},
   "outputs": [],
   "source": [
    "import pandas as pd\n",
    "filt_red=pd.read_csv('cosmic_filtered_reduced.csv')"
   ]
  },
  {
   "cell_type": "code",
   "execution_count": 3,
   "metadata": {},
   "outputs": [],
   "source": [
    "our_final_df=filt_red[filt_red['Gene name'].str.contains('gnaq|gnas|gna11|gnai1|gnai2|gna13|gna15|gna14|gnb1|gnb3|gnb5|arr3|sag|arrb2',case=False)]"
   ]
  },
  {
   "cell_type": "code",
   "execution_count": 4,
   "metadata": {},
   "outputs": [
    {
     "data": {
      "text/html": [
       "<div>\n",
       "<style scoped>\n",
       "    .dataframe tbody tr th:only-of-type {\n",
       "        vertical-align: middle;\n",
       "    }\n",
       "\n",
       "    .dataframe tbody tr th {\n",
       "        vertical-align: top;\n",
       "    }\n",
       "\n",
       "    .dataframe thead th {\n",
       "        text-align: right;\n",
       "    }\n",
       "</style>\n",
       "<table border=\"1\" class=\"dataframe\">\n",
       "  <thead>\n",
       "    <tr style=\"text-align: right;\">\n",
       "      <th></th>\n",
       "      <th>Unnamed: 0</th>\n",
       "      <th>Gene name</th>\n",
       "      <th>Sample name</th>\n",
       "      <th>ID_sample</th>\n",
       "      <th>MUTATION_ID</th>\n",
       "      <th>Primary site</th>\n",
       "      <th>Mutation AA</th>\n",
       "      <th>Tumour origin</th>\n",
       "      <th>Age</th>\n",
       "    </tr>\n",
       "  </thead>\n",
       "  <tbody>\n",
       "    <tr>\n",
       "      <th>14417024</th>\n",
       "      <td>14417024</td>\n",
       "      <td>PCDH15_ENST00000395430</td>\n",
       "      <td>EXTERN_MELA_20140526_055</td>\n",
       "      <td>2839353</td>\n",
       "      <td>123667089</td>\n",
       "      <td>skin</td>\n",
       "      <td>p.E1528K</td>\n",
       "      <td>metastasis</td>\n",
       "      <td>NaN</td>\n",
       "    </tr>\n",
       "    <tr>\n",
       "      <th>14417025</th>\n",
       "      <td>14417025</td>\n",
       "      <td>MBNL1</td>\n",
       "      <td>RK308_C01</td>\n",
       "      <td>2194686</td>\n",
       "      <td>101204196</td>\n",
       "      <td>liver</td>\n",
       "      <td>p.R279Q</td>\n",
       "      <td>NS</td>\n",
       "      <td>NaN</td>\n",
       "    </tr>\n",
       "    <tr>\n",
       "      <th>14417026</th>\n",
       "      <td>14417026</td>\n",
       "      <td>SEC14L2_ENST00000405717</td>\n",
       "      <td>EXTERN_MELA_20140526_055</td>\n",
       "      <td>2839353</td>\n",
       "      <td>123272834</td>\n",
       "      <td>skin</td>\n",
       "      <td>p.P28L</td>\n",
       "      <td>metastasis</td>\n",
       "      <td>NaN</td>\n",
       "    </tr>\n",
       "    <tr>\n",
       "      <th>14417027</th>\n",
       "      <td>14417027</td>\n",
       "      <td>DSG4</td>\n",
       "      <td>EXTERN_MELA_20140526_055</td>\n",
       "      <td>2839353</td>\n",
       "      <td>115469217</td>\n",
       "      <td>skin</td>\n",
       "      <td>p.E31K</td>\n",
       "      <td>metastasis</td>\n",
       "      <td>NaN</td>\n",
       "    </tr>\n",
       "    <tr>\n",
       "      <th>14417028</th>\n",
       "      <td>14417028</td>\n",
       "      <td>SERPINB8_ENST00000397988</td>\n",
       "      <td>TCGA-EE-A2MJ-06</td>\n",
       "      <td>2121681</td>\n",
       "      <td>124036919</td>\n",
       "      <td>skin</td>\n",
       "      <td>p.S120T</td>\n",
       "      <td>NS</td>\n",
       "      <td>60.0</td>\n",
       "    </tr>\n",
       "  </tbody>\n",
       "</table>\n",
       "</div>"
      ],
      "text/plain": [
       "          Unnamed: 0                 Gene name               Sample name  \\\n",
       "14417024    14417024    PCDH15_ENST00000395430  EXTERN_MELA_20140526_055   \n",
       "14417025    14417025                     MBNL1                 RK308_C01   \n",
       "14417026    14417026   SEC14L2_ENST00000405717  EXTERN_MELA_20140526_055   \n",
       "14417027    14417027                      DSG4  EXTERN_MELA_20140526_055   \n",
       "14417028    14417028  SERPINB8_ENST00000397988           TCGA-EE-A2MJ-06   \n",
       "\n",
       "          ID_sample  MUTATION_ID Primary site Mutation AA Tumour origin   Age  \n",
       "14417024    2839353    123667089         skin    p.E1528K    metastasis   NaN  \n",
       "14417025    2194686    101204196        liver     p.R279Q            NS   NaN  \n",
       "14417026    2839353    123272834         skin      p.P28L    metastasis   NaN  \n",
       "14417027    2839353    115469217         skin      p.E31K    metastasis   NaN  \n",
       "14417028    2121681    124036919         skin     p.S120T            NS  60.0  "
      ]
     },
     "execution_count": 4,
     "metadata": {},
     "output_type": "execute_result"
    }
   ],
   "source": [
    "our_final_df.to_csv('finalcosmicCleaned.csv')\n",
    "filt_red.tail()"
   ]
  },
  {
   "cell_type": "code",
   "execution_count": 4,
   "metadata": {},
   "outputs": [
    {
     "data": {
      "text/html": [
       "<div>\n",
       "<style scoped>\n",
       "    .dataframe tbody tr th:only-of-type {\n",
       "        vertical-align: middle;\n",
       "    }\n",
       "\n",
       "    .dataframe tbody tr th {\n",
       "        vertical-align: top;\n",
       "    }\n",
       "\n",
       "    .dataframe thead th {\n",
       "        text-align: right;\n",
       "    }\n",
       "</style>\n",
       "<table border=\"1\" class=\"dataframe\">\n",
       "  <thead>\n",
       "    <tr style=\"text-align: right;\">\n",
       "      <th></th>\n",
       "      <th>Gene name</th>\n",
       "      <th>Sample name</th>\n",
       "      <th>ID_sample</th>\n",
       "      <th>MUTATION_ID</th>\n",
       "      <th>Primary site</th>\n",
       "      <th>Mutation AA</th>\n",
       "      <th>Tumour origin</th>\n",
       "      <th>Age</th>\n",
       "    </tr>\n",
       "  </thead>\n",
       "  <tbody>\n",
       "    <tr>\n",
       "      <th>0</th>\n",
       "      <td>MCF2L_ENST00000375604</td>\n",
       "      <td>TCGA-BR-6852-01</td>\n",
       "      <td>2197874</td>\n",
       "      <td>118447883</td>\n",
       "      <td>stomach</td>\n",
       "      <td>p.A393V</td>\n",
       "      <td>NS</td>\n",
       "      <td>64.0</td>\n",
       "    </tr>\n",
       "    <tr>\n",
       "      <th>1</th>\n",
       "      <td>ACD_ENST00000219251</td>\n",
       "      <td>TCGA-F7-A624-01</td>\n",
       "      <td>2193851</td>\n",
       "      <td>100768125</td>\n",
       "      <td>upper_aerodigestive_tract</td>\n",
       "      <td>p.R492H</td>\n",
       "      <td>NS</td>\n",
       "      <td>73.0</td>\n",
       "    </tr>\n",
       "    <tr>\n",
       "      <th>2</th>\n",
       "      <td>MCF2L_ENST00000375604</td>\n",
       "      <td>TCGA-DY-A1DG-01</td>\n",
       "      <td>1651676</td>\n",
       "      <td>118467443</td>\n",
       "      <td>large_intestine</td>\n",
       "      <td>p.V131I</td>\n",
       "      <td>primary</td>\n",
       "      <td>75.0</td>\n",
       "    </tr>\n",
       "    <tr>\n",
       "      <th>3</th>\n",
       "      <td>MCF2L_ENST00000375604</td>\n",
       "      <td>CHG-13-08087T</td>\n",
       "      <td>2634306</td>\n",
       "      <td>118462926</td>\n",
       "      <td>liver</td>\n",
       "      <td>p.A38S</td>\n",
       "      <td>primary</td>\n",
       "      <td>46.0</td>\n",
       "    </tr>\n",
       "    <tr>\n",
       "      <th>4</th>\n",
       "      <td>MCF2L_ENST00000375604</td>\n",
       "      <td>CHG-13-08087T</td>\n",
       "      <td>2634306</td>\n",
       "      <td>118462984</td>\n",
       "      <td>liver</td>\n",
       "      <td>p.E301D</td>\n",
       "      <td>primary</td>\n",
       "      <td>46.0</td>\n",
       "    </tr>\n",
       "    <tr>\n",
       "      <th>...</th>\n",
       "      <td>...</td>\n",
       "      <td>...</td>\n",
       "      <td>...</td>\n",
       "      <td>...</td>\n",
       "      <td>...</td>\n",
       "      <td>...</td>\n",
       "      <td>...</td>\n",
       "      <td>...</td>\n",
       "    </tr>\n",
       "    <tr>\n",
       "      <th>14088703</th>\n",
       "      <td>PCDH15_ENST00000395430</td>\n",
       "      <td>EXTERN_MELA_20140526_055</td>\n",
       "      <td>2839353</td>\n",
       "      <td>123667089</td>\n",
       "      <td>skin</td>\n",
       "      <td>p.E1528K</td>\n",
       "      <td>metastasis</td>\n",
       "      <td>NaN</td>\n",
       "    </tr>\n",
       "    <tr>\n",
       "      <th>14088704</th>\n",
       "      <td>MBNL1</td>\n",
       "      <td>RK308_C01</td>\n",
       "      <td>2194686</td>\n",
       "      <td>101204196</td>\n",
       "      <td>liver</td>\n",
       "      <td>p.R279Q</td>\n",
       "      <td>NS</td>\n",
       "      <td>NaN</td>\n",
       "    </tr>\n",
       "    <tr>\n",
       "      <th>14088705</th>\n",
       "      <td>SEC14L2_ENST00000405717</td>\n",
       "      <td>EXTERN_MELA_20140526_055</td>\n",
       "      <td>2839353</td>\n",
       "      <td>123272834</td>\n",
       "      <td>skin</td>\n",
       "      <td>p.P28L</td>\n",
       "      <td>metastasis</td>\n",
       "      <td>NaN</td>\n",
       "    </tr>\n",
       "    <tr>\n",
       "      <th>14088706</th>\n",
       "      <td>DSG4</td>\n",
       "      <td>EXTERN_MELA_20140526_055</td>\n",
       "      <td>2839353</td>\n",
       "      <td>115469217</td>\n",
       "      <td>skin</td>\n",
       "      <td>p.E31K</td>\n",
       "      <td>metastasis</td>\n",
       "      <td>NaN</td>\n",
       "    </tr>\n",
       "    <tr>\n",
       "      <th>14088707</th>\n",
       "      <td>SERPINB8_ENST00000397988</td>\n",
       "      <td>TCGA-EE-A2MJ-06</td>\n",
       "      <td>2121681</td>\n",
       "      <td>124036919</td>\n",
       "      <td>skin</td>\n",
       "      <td>p.S120T</td>\n",
       "      <td>NS</td>\n",
       "      <td>60.0</td>\n",
       "    </tr>\n",
       "  </tbody>\n",
       "</table>\n",
       "<p>14088708 rows × 8 columns</p>\n",
       "</div>"
      ],
      "text/plain": [
       "                         Gene name               Sample name  ID_sample  \\\n",
       "0            MCF2L_ENST00000375604           TCGA-BR-6852-01    2197874   \n",
       "1              ACD_ENST00000219251           TCGA-F7-A624-01    2193851   \n",
       "2            MCF2L_ENST00000375604           TCGA-DY-A1DG-01    1651676   \n",
       "3            MCF2L_ENST00000375604             CHG-13-08087T    2634306   \n",
       "4            MCF2L_ENST00000375604             CHG-13-08087T    2634306   \n",
       "...                            ...                       ...        ...   \n",
       "14088703    PCDH15_ENST00000395430  EXTERN_MELA_20140526_055    2839353   \n",
       "14088704                     MBNL1                 RK308_C01    2194686   \n",
       "14088705   SEC14L2_ENST00000405717  EXTERN_MELA_20140526_055    2839353   \n",
       "14088706                      DSG4  EXTERN_MELA_20140526_055    2839353   \n",
       "14088707  SERPINB8_ENST00000397988           TCGA-EE-A2MJ-06    2121681   \n",
       "\n",
       "          MUTATION_ID               Primary site Mutation AA Tumour origin  \\\n",
       "0           118447883                    stomach     p.A393V            NS   \n",
       "1           100768125  upper_aerodigestive_tract     p.R492H            NS   \n",
       "2           118467443            large_intestine     p.V131I       primary   \n",
       "3           118462926                      liver      p.A38S       primary   \n",
       "4           118462984                      liver     p.E301D       primary   \n",
       "...               ...                        ...         ...           ...   \n",
       "14088703    123667089                       skin    p.E1528K    metastasis   \n",
       "14088704    101204196                      liver     p.R279Q            NS   \n",
       "14088705    123272834                       skin      p.P28L    metastasis   \n",
       "14088706    115469217                       skin      p.E31K    metastasis   \n",
       "14088707    124036919                       skin     p.S120T            NS   \n",
       "\n",
       "           Age  \n",
       "0         64.0  \n",
       "1         73.0  \n",
       "2         75.0  \n",
       "3         46.0  \n",
       "4         46.0  \n",
       "...        ...  \n",
       "14088703   NaN  \n",
       "14088704   NaN  \n",
       "14088705   NaN  \n",
       "14088706   NaN  \n",
       "14088707  60.0  \n",
       "\n",
       "[14088708 rows x 8 columns]"
      ]
     },
     "execution_count": 4,
     "metadata": {},
     "output_type": "execute_result"
    }
   ],
   "source": [
    "# filt_red.drop('Unnamed: 0',axis=1,inplace=True)\n",
    "dup=filt_red[filt_red['ID_sample'].duplicated()].reset_index(drop='index')\n",
    "dup\n"
   ]
  },
  {
   "cell_type": "code",
   "execution_count": 7,
   "metadata": {},
   "outputs": [],
   "source": [
    "dup['Sample name'].value_counts()\n",
    "dup[dup['Sample name']=='DD191_Org']['Mutation AA'].value_counts()\n",
    "wanted_gene_dup=dup[dup['Gene name'].str.contains('gnaq|gna11|gnai1|gnai2|gna13|gna15|gna14|gnb1|gnb3|gnb5|arr3|sag|arrb2',case=False)]"
   ]
  },
  {
   "cell_type": "code",
   "execution_count": 8,
   "metadata": {},
   "outputs": [
    {
     "data": {
      "text/html": [
       "<div>\n",
       "<style scoped>\n",
       "    .dataframe tbody tr th:only-of-type {\n",
       "        vertical-align: middle;\n",
       "    }\n",
       "\n",
       "    .dataframe tbody tr th {\n",
       "        vertical-align: top;\n",
       "    }\n",
       "\n",
       "    .dataframe thead th {\n",
       "        text-align: right;\n",
       "    }\n",
       "</style>\n",
       "<table border=\"1\" class=\"dataframe\">\n",
       "  <thead>\n",
       "    <tr style=\"text-align: right;\">\n",
       "      <th></th>\n",
       "      <th>Gene name</th>\n",
       "      <th>Sample name</th>\n",
       "      <th>ID_sample</th>\n",
       "      <th>MUTATION_ID</th>\n",
       "      <th>Primary site</th>\n",
       "      <th>Mutation AA</th>\n",
       "      <th>Tumour origin</th>\n",
       "      <th>Age</th>\n",
       "    </tr>\n",
       "  </thead>\n",
       "  <tbody>\n",
       "    <tr>\n",
       "      <th>4948</th>\n",
       "      <td>GNB1L_ENST00000403325</td>\n",
       "      <td>TCGA-BF-A3DM-01</td>\n",
       "      <td>2197829</td>\n",
       "      <td>123389935</td>\n",
       "      <td>skin</td>\n",
       "      <td>p.R265C</td>\n",
       "      <td>NS</td>\n",
       "      <td>63.00</td>\n",
       "    </tr>\n",
       "    <tr>\n",
       "      <th>4949</th>\n",
       "      <td>GNB1L_ENST00000403325</td>\n",
       "      <td>TCGA-55-8205-01</td>\n",
       "      <td>2194805</td>\n",
       "      <td>123394864</td>\n",
       "      <td>lung</td>\n",
       "      <td>p.A25P</td>\n",
       "      <td>NS</td>\n",
       "      <td>76.00</td>\n",
       "    </tr>\n",
       "    <tr>\n",
       "      <th>5097</th>\n",
       "      <td>GNB1L_ENST00000403325</td>\n",
       "      <td>sysucc-880T</td>\n",
       "      <td>2456759</td>\n",
       "      <td>123390239</td>\n",
       "      <td>large_intestine</td>\n",
       "      <td>p.R178H</td>\n",
       "      <td>primary</td>\n",
       "      <td>51.00</td>\n",
       "    </tr>\n",
       "    <tr>\n",
       "      <th>5098</th>\n",
       "      <td>GNB1L_ENST00000403325</td>\n",
       "      <td>LUAD-LC15C</td>\n",
       "      <td>1765225</td>\n",
       "      <td>123392510</td>\n",
       "      <td>lung</td>\n",
       "      <td>p.S196F</td>\n",
       "      <td>primary</td>\n",
       "      <td>43.00</td>\n",
       "    </tr>\n",
       "    <tr>\n",
       "      <th>5267</th>\n",
       "      <td>GNB1L_ENST00000403325</td>\n",
       "      <td>TCGA-DK-A3IT-01</td>\n",
       "      <td>1898108</td>\n",
       "      <td>123390985</td>\n",
       "      <td>urinary_tract</td>\n",
       "      <td>p.G31A</td>\n",
       "      <td>primary</td>\n",
       "      <td>62.00</td>\n",
       "    </tr>\n",
       "    <tr>\n",
       "      <th>...</th>\n",
       "      <td>...</td>\n",
       "      <td>...</td>\n",
       "      <td>...</td>\n",
       "      <td>...</td>\n",
       "      <td>...</td>\n",
       "      <td>...</td>\n",
       "      <td>...</td>\n",
       "      <td>...</td>\n",
       "    </tr>\n",
       "    <tr>\n",
       "      <th>14057253</th>\n",
       "      <td>GNA15</td>\n",
       "      <td>TCGA-18-3411-01</td>\n",
       "      <td>1780322</td>\n",
       "      <td>104430406</td>\n",
       "      <td>lung</td>\n",
       "      <td>p.G210V</td>\n",
       "      <td>primary</td>\n",
       "      <td>63.00</td>\n",
       "    </tr>\n",
       "    <tr>\n",
       "      <th>14059786</th>\n",
       "      <td>GNA15</td>\n",
       "      <td>TCGA-FS-A1ZM-06</td>\n",
       "      <td>2121763</td>\n",
       "      <td>104431031</td>\n",
       "      <td>skin</td>\n",
       "      <td>p.R205L</td>\n",
       "      <td>NS</td>\n",
       "      <td>74.00</td>\n",
       "    </tr>\n",
       "    <tr>\n",
       "      <th>14061405</th>\n",
       "      <td>GNA15</td>\n",
       "      <td>T1849</td>\n",
       "      <td>2658271</td>\n",
       "      <td>104432144</td>\n",
       "      <td>large_intestine</td>\n",
       "      <td>p.R152W</td>\n",
       "      <td>NS</td>\n",
       "      <td>79.25</td>\n",
       "    </tr>\n",
       "    <tr>\n",
       "      <th>14066773</th>\n",
       "      <td>GNA15</td>\n",
       "      <td>T2227</td>\n",
       "      <td>2658325</td>\n",
       "      <td>104430159</td>\n",
       "      <td>large_intestine</td>\n",
       "      <td>p.A160V</td>\n",
       "      <td>NS</td>\n",
       "      <td>70.00</td>\n",
       "    </tr>\n",
       "    <tr>\n",
       "      <th>14069190</th>\n",
       "      <td>GNA15</td>\n",
       "      <td>EXTERN_MELA_20140526_055</td>\n",
       "      <td>2839353</td>\n",
       "      <td>104428866</td>\n",
       "      <td>skin</td>\n",
       "      <td>p.D239N</td>\n",
       "      <td>metastasis</td>\n",
       "      <td>NaN</td>\n",
       "    </tr>\n",
       "  </tbody>\n",
       "</table>\n",
       "<p>7463 rows × 8 columns</p>\n",
       "</div>"
      ],
      "text/plain": [
       "                      Gene name               Sample name  ID_sample  \\\n",
       "4948      GNB1L_ENST00000403325           TCGA-BF-A3DM-01    2197829   \n",
       "4949      GNB1L_ENST00000403325           TCGA-55-8205-01    2194805   \n",
       "5097      GNB1L_ENST00000403325               sysucc-880T    2456759   \n",
       "5098      GNB1L_ENST00000403325                LUAD-LC15C    1765225   \n",
       "5267      GNB1L_ENST00000403325           TCGA-DK-A3IT-01    1898108   \n",
       "...                         ...                       ...        ...   \n",
       "14057253                  GNA15           TCGA-18-3411-01    1780322   \n",
       "14059786                  GNA15           TCGA-FS-A1ZM-06    2121763   \n",
       "14061405                  GNA15                     T1849    2658271   \n",
       "14066773                  GNA15                     T2227    2658325   \n",
       "14069190                  GNA15  EXTERN_MELA_20140526_055    2839353   \n",
       "\n",
       "          MUTATION_ID     Primary site Mutation AA Tumour origin    Age  \n",
       "4948        123389935             skin     p.R265C            NS  63.00  \n",
       "4949        123394864             lung      p.A25P            NS  76.00  \n",
       "5097        123390239  large_intestine     p.R178H       primary  51.00  \n",
       "5098        123392510             lung     p.S196F       primary  43.00  \n",
       "5267        123390985    urinary_tract      p.G31A       primary  62.00  \n",
       "...               ...              ...         ...           ...    ...  \n",
       "14057253    104430406             lung     p.G210V       primary  63.00  \n",
       "14059786    104431031             skin     p.R205L            NS  74.00  \n",
       "14061405    104432144  large_intestine     p.R152W            NS  79.25  \n",
       "14066773    104430159  large_intestine     p.A160V            NS  70.00  \n",
       "14069190    104428866             skin     p.D239N    metastasis    NaN  \n",
       "\n",
       "[7463 rows x 8 columns]"
      ]
     },
     "execution_count": 8,
     "metadata": {},
     "output_type": "execute_result"
    }
   ],
   "source": [
    "wanted_gene_dup"
   ]
  },
  {
   "cell_type": "code",
   "execution_count": 32,
   "metadata": {},
   "outputs": [
    {
     "data": {
      "text/plain": [
       "0       False\n",
       "1       False\n",
       "2       False\n",
       "3       False\n",
       "4       False\n",
       "        ...  \n",
       "7458    False\n",
       "7459     True\n",
       "7460     True\n",
       "7461     True\n",
       "7462     True\n",
       "Name: ID_sample, Length: 7463, dtype: bool"
      ]
     },
     "execution_count": 32,
     "metadata": {},
     "output_type": "execute_result"
    }
   ],
   "source": [
    "# wanted_gene_dup.reset_index(drop='index',inplace=True)\n",
    "wanted_gene_dup['ID_sample'].value_counts()\n",
    "# wanted_gene_dup['ID_sample'].duplicated()\n"
   ]
  },
  {
   "cell_type": "code",
   "execution_count": 16,
   "metadata": {},
   "outputs": [],
   "source": [
    "# import pandas as pd\n",
    "\n",
    "# # Specify the chunk size\n",
    "# chunksize = 100000\n",
    "\n",
    "\n",
    "# # Initialize an empty list to store filtered chunks\n",
    "# filtered_chunks = []\n",
    "\n",
    "# # Read the CSV file in chunks\n",
    "# for chunk in pd.read_csv('cosmic filtered.csv', chunksize=chunksize):\n",
    "#     # Filter the chunk to keep only rows with duplicated ID_samples\n",
    "#     duplicated_in_chunk = chunk[chunk.duplicated(subset='ID_sample', keep=False)]\n",
    "    \n",
    "#     # Add the filtered chunk to the list\n",
    "#     filtered_chunks.append(duplicated_in_chunk)\n",
    "\n",
    "# # Concatenate the filtered chunks into a new DataFrame\n",
    "# duplicated_df = pd.concat(filtered_chunks)\n",
    "\n",
    "# # Print the new DataFrame\n",
    "# print(duplicated_df)14417028"
   ]
  },
  {
   "cell_type": "code",
   "execution_count": 3,
   "metadata": {},
   "outputs": [
    {
     "data": {
      "text/plain": [
       "Index(['Unnamed: 0', 'Gene name', 'Accession Number', 'Gene CDS length',\n",
       "       'HGNC ID', 'Sample name', 'ID_sample', 'ID_tumour', 'Primary site',\n",
       "       'Site subtype 1', 'Site subtype 2', 'Site subtype 3',\n",
       "       'Primary histology', 'Histology subtype 1', 'Histology subtype 2',\n",
       "       'Histology subtype 3', 'Genome-wide screen', 'GENOMIC_MUTATION_ID',\n",
       "       'LEGACY_MUTATION_ID', 'MUTATION_ID', 'Mutation CDS', 'Mutation AA',\n",
       "       'Mutation Description', 'Mutation zygosity', 'LOH', 'GRCh',\n",
       "       'Mutation genome position', 'Mutation strand', 'Resistance Mutation',\n",
       "       'Mutation somatic status', 'Pubmed_PMID', 'ID_STUDY', 'Sample Type',\n",
       "       'Tumour origin', 'Age', 'HGVSP', 'HGVSC', 'HGVSG'],\n",
       "      dtype='object')"
      ]
     },
     "execution_count": 3,
     "metadata": {},
     "output_type": "execute_result"
    }
   ],
   "source": [
    "gnaq=pd.read_csv('gnaqCosmic.csv')\n",
    "gna11=pd.read_csv('gna11Cosmic.csv')\n",
    "gnaq.head()\n",
    "# len(gna11)\n",
    "gnaq.columns"
   ]
  },
  {
   "cell_type": "code",
   "execution_count": 5,
   "metadata": {},
   "outputs": [
    {
     "data": {
      "text/plain": [
       "Mutation Description\n",
       "Unknown                         1660\n",
       "Substitution - Missense         1308\n",
       "Substitution - coding silent      69\n",
       "Substitution - Nonsense           68\n",
       "Deletion - Frameshift              7\n",
       "Insertion - Frameshift             2\n",
       "Whole gene deletion                1\n",
       "Deletion - In frame                1\n",
       "Name: count, dtype: int64"
      ]
     },
     "execution_count": 5,
     "metadata": {},
     "output_type": "execute_result"
    }
   ],
   "source": [
    "gnaq['Mutation Description'].value_counts()"
   ]
  },
  {
   "cell_type": "code",
   "execution_count": 11,
   "metadata": {},
   "outputs": [
    {
     "data": {
      "text/plain": [
       "1219"
      ]
     },
     "execution_count": 11,
     "metadata": {},
     "output_type": "execute_result"
    }
   ],
   "source": [
    "gna11['Sample name'].nunique()\n",
    "# gnaq.drop(['Resistance Mutation'],axis=1, inplace=True)\n",
    "# gnaq.drop(['Mutation Strand'],axis=1, inplace=True)"
   ]
  },
  {
   "cell_type": "code",
   "execution_count": 1,
   "metadata": {},
   "outputs": [
    {
     "ename": "NameError",
     "evalue": "name 'gnaq' is not defined",
     "output_type": "error",
     "traceback": [
      "\u001b[1;31m---------------------------------------------------------------------------\u001b[0m",
      "\u001b[1;31mNameError\u001b[0m                                 Traceback (most recent call last)",
      "Cell \u001b[1;32mIn[1], line 2\u001b[0m\n\u001b[0;32m      1\u001b[0m lst \u001b[39m=\u001b[39m []\n\u001b[1;32m----> 2\u001b[0m \u001b[39mfor\u001b[39;00m i \u001b[39min\u001b[39;00m gnaq[\u001b[39m'\u001b[39m\u001b[39mID_sample\u001b[39m\u001b[39m'\u001b[39m]:\n\u001b[0;32m      3\u001b[0m     \u001b[39mif\u001b[39;00m i \u001b[39min\u001b[39;00m gna11[\u001b[39m'\u001b[39m\u001b[39mID_sample\u001b[39m\u001b[39m'\u001b[39m]\u001b[39m.\u001b[39mvalues:\n\u001b[0;32m      4\u001b[0m         lst\u001b[39m.\u001b[39mappend(i)\n",
      "\u001b[1;31mNameError\u001b[0m: name 'gnaq' is not defined"
     ]
    }
   ],
   "source": [
    "lst = []\n",
    "for i in gnaq['ID_sample']:\n",
    "    if i in gna11['ID_sample'].values:\n",
    "        lst.append(i)\n"
   ]
  },
  {
   "cell_type": "code",
   "execution_count": 27,
   "metadata": {},
   "outputs": [
    {
     "ename": "AttributeError",
     "evalue": "'list' object has no attribute 'unique'",
     "output_type": "error",
     "traceback": [
      "\u001b[1;31m---------------------------------------------------------------------------\u001b[0m",
      "\u001b[1;31mAttributeError\u001b[0m                            Traceback (most recent call last)",
      "Cell \u001b[1;32mIn[27], line 1\u001b[0m\n\u001b[1;32m----> 1\u001b[0m lst\u001b[39m.\u001b[39;49munique()\n",
      "\u001b[1;31mAttributeError\u001b[0m: 'list' object has no attribute 'unique'"
     ]
    }
   ],
   "source": []
  },
  {
   "cell_type": "code",
   "execution_count": 66,
   "metadata": {},
   "outputs": [],
   "source": [
    "gnaq_2=gnaq[['Gene name','Primary site','Mutation AA','Site subtype 1','Primary histology','Age']]"
   ]
  },
  {
   "cell_type": "code",
   "execution_count": 70,
   "metadata": {},
   "outputs": [
    {
     "data": {
      "text/plain": [
       "Mutation AA\n",
       "p.?        1660\n",
       "p.Q209L     406\n",
       "p.Q209P     378\n",
       "p.T96S       76\n",
       "p.R183Q      62\n",
       "p.Q209H      42\n",
       "p.Y101*      38\n",
       "p.M59L       28\n",
       "p.Q209R      18\n",
       "p.D35=       14\n",
       "Name: count, dtype: int64"
      ]
     },
     "execution_count": 70,
     "metadata": {},
     "output_type": "execute_result"
    }
   ],
   "source": [
    "gnaq_2[\"Mutation AA\"].value_counts().head(10)\n"
   ]
  },
  {
   "cell_type": "code",
   "execution_count": 77,
   "metadata": {},
   "outputs": [],
   "source": [
    "# filtered_gnaq_2 = gnaq_2[(gnaq_2['Mutation AA'] == 'p.Q209L') | (gnaq_2['Mutation AA'] == 'p.Q209P') | (gnaq_2['Mutation AA'] == 'p.T96S') | (gnaq_2['Mutation AA'] == 'p.R183Q') | (gnaq_2['Mutation AA'] == 'p.Q209H')]\n",
    "Filtered_gnaq_2= gnaq_2[gnaq_2['Mutation AA'].isin(['p.Q209L', 'p.Q209P', 'p.T96S', 'p.R183Q', 'p.Q209H'])]"
   ]
  },
  {
   "cell_type": "code",
   "execution_count": 85,
   "metadata": {},
   "outputs": [
    {
     "data": {
      "text/plain": [
       "Site subtype 1\n",
       "uveal_tract                     576\n",
       "NS                              167\n",
       "blood_vessel                     78\n",
       "buttock                          21\n",
       "mucosal                          18\n",
       "scalp                            17\n",
       "colon                            14\n",
       "extremity                        12\n",
       "lower_back                        8\n",
       "hand                              7\n",
       "bladder                           6\n",
       "forearm                           5\n",
       "foot                              4\n",
       "rectum                            3\n",
       "ear                               2\n",
       "upper_arm                         2\n",
       "orbit                             2\n",
       "bile_duct                         2\n",
       "conjunctiva                       2\n",
       "back                              2\n",
       "gallbladder                       2\n",
       "chronically_sun_exposed_site      1\n",
       "small_intestine                   1\n",
       "lymph_node                        1\n",
       "upper_leg                         1\n",
       "posterior_fossa                   1\n",
       "lower_extremity                   1\n",
       "head_neck                         1\n",
       "caecum                            1\n",
       "face                              1\n",
       "nerve_sheath                      1\n",
       "trunk                             1\n",
       "upper_back                        1\n",
       "leg                               1\n",
       "upper_third                       1\n",
       "Name: count, dtype: int64"
      ]
     },
     "execution_count": 85,
     "metadata": {},
     "output_type": "execute_result"
    }
   ],
   "source": [
    "Filtered_gnaq_2['Site subtype 1bu'].value_counts()"
   ]
  },
  {
   "cell_type": "code",
   "execution_count": 93,
   "metadata": {},
   "outputs": [
    {
     "data": {
      "text/plain": [
       "Site subtype 1\n",
       "blood_vessel    32\n",
       "uveal_tract      7\n",
       "upper_back       1\n",
       "NS               1\n",
       "conjunctiva      1\n",
       "Name: count, dtype: int64"
      ]
     },
     "execution_count": 93,
     "metadata": {},
     "output_type": "execute_result"
    }
   ],
   "source": [
    "# Filtered_gnaq_2[Filtered_gnaq_2['Mutation AA']=='p.Q209P']['Site subtype 1'].value_counts()\n",
    "# Filtered_gnaq_2[Filtered_gnaq_2['Mutation AA']=='p.Q209L']['Site subtype 1'].value_counts()\n",
    "# Filtered_gnaq_2[Filtered_gnaq_2['Mutation AA']=='p.R183Q']['Site subtype 1'].value_counts()\n",
    "# Filtered_gnaq_2[Filtered_gnaq_2['Mutation AA']=='p.T96S']['Site subtype 1'].value_counts()\n",
    "Filtered_gnaq_2[Filtered_gnaq_2['Mutation AA']=='p.Q209H']['Site subtype 1'].value_counts()\n"
   ]
  },
  {
   "cell_type": "code",
   "execution_count": 7,
   "metadata": {},
   "outputs": [],
   "source": [
    "# import pandas as pd\n",
    "\n",
    "# # Create an empty DataFrame to store the filtered rows\n",
    "# filtered_df = pd.DataFrame()\n",
    "\n",
    "# chunksize = 100000  # Specify the number of rows to read in each chunk\n",
    "# chunks = pd.read_csv('CosmicMutantExport.tsv', delimiter='\\t', chunksize=chunksize)\n",
    "\n",
    "# for chunk in chunks:\n",
    "#     # Filter rows containing 'gnaq' in the 'gene name' column\n",
    "#     filtered_rows = chunk[chunk['Gene name'].str.contains('gnaq', case=False)]\n",
    "    \n",
    "#     # Append the filtered rows to the new DataFrame\n",
    "#     filtered_df = pd.concat([filtered_df, filtered_rows], ignore_index=True)\n",
    "\n",
    "# # Print the resulting DataFrame\n",
    "# print(filtered_df)\n"
   ]
  },
  {
   "cell_type": "markdown",
   "metadata": {},
   "source": [
    "### separating Gene names by their name to dofferent databases"
   ]
  },
  {
   "cell_type": "code",
   "execution_count": 6,
   "metadata": {},
   "outputs": [],
   "source": [
    "# import pandas as pd\n",
    "\n",
    "# # Create an empty DataFrame to store the filtered rows\n",
    "# filtered_df2 = pd.DataFrame()\n",
    "\n",
    "# chunksize = 100000  # Specify the number of rows to read in each chunk\n",
    "# chunks = pd.read_csv('CosmicMutantExport.tsv', delimiter='\\t', chunksize=chunksize)\n",
    "\n",
    "# for chunk in chunks:\n",
    "#     # Filter rows containing 'gnaq' in the 'gene name' column\n",
    "#     filtered_rows2 = chunk[chunk['Gene name'].str.contains('gna11', case=False)]\n",
    "    \n",
    "#     # Append the filtered rows to the new DataFrame\n",
    "#     filtered_df2 = pd.concat([filtered_df2, filtered_rows2], ignore_index=True)\n",
    "\n",
    "# # Print the resulting DataFrame\n",
    "# print(filtered_df2)\n"
   ]
  },
  {
   "cell_type": "code",
   "execution_count": 34,
   "metadata": {},
   "outputs": [],
   "source": [
    "# filtered_df2.to_csv('gna11Cosmic.csv')\n"
   ]
  }
 ],
 "metadata": {
  "kernelspec": {
   "display_name": "Python 3",
   "language": "python",
   "name": "python3"
  },
  "language_info": {
   "codemirror_mode": {
    "name": "ipython",
    "version": 3
   },
   "file_extension": ".py",
   "mimetype": "text/x-python",
   "name": "python",
   "nbconvert_exporter": "python",
   "pygments_lexer": "ipython3",
   "version": "3.11.4"
  },
  "orig_nbformat": 4
 },
 "nbformat": 4,
 "nbformat_minor": 2
}
